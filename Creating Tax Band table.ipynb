{
 "cells": [
  {
   "cell_type": "code",
   "execution_count": 18,
   "id": "4424719a",
   "metadata": {},
   "outputs": [],
   "source": [
    "import pandas as pd\n",
    "import matplotlib.pyplot as plt\n",
    "import dataframe_image as dfi"
   ]
  },
  {
   "cell_type": "code",
   "execution_count": 21,
   "id": "79cae334",
   "metadata": {},
   "outputs": [
    {
     "data": {
      "text/html": [
       "<div>\n",
       "<style scoped>\n",
       "    .dataframe tbody tr th:only-of-type {\n",
       "        vertical-align: middle;\n",
       "    }\n",
       "\n",
       "    .dataframe tbody tr th {\n",
       "        vertical-align: top;\n",
       "    }\n",
       "\n",
       "    .dataframe thead th {\n",
       "        text-align: right;\n",
       "    }\n",
       "</style>\n",
       "<table border=\"1\" class=\"dataframe\">\n",
       "  <thead>\n",
       "    <tr style=\"text-align: right;\">\n",
       "      <th></th>\n",
       "      <th>Band</th>\n",
       "      <th>Income Tax</th>\n",
       "      <th>Income Tax Rate</th>\n",
       "      <th>Dividend Tax Rate</th>\n",
       "      <th>Capital Gain Tax Rate</th>\n",
       "    </tr>\n",
       "  </thead>\n",
       "  <tbody>\n",
       "    <tr>\n",
       "      <th>0</th>\n",
       "      <td>Personal Allowance</td>\n",
       "      <td>12,570</td>\n",
       "      <td>0%</td>\n",
       "      <td>2,000</td>\n",
       "      <td>12,300 + cost of buying</td>\n",
       "    </tr>\n",
       "    <tr>\n",
       "      <th>1</th>\n",
       "      <td>Basic Rate</td>\n",
       "      <td>12,571 - 50,270</td>\n",
       "      <td>20%</td>\n",
       "      <td>7.50%</td>\n",
       "      <td>10%</td>\n",
       "    </tr>\n",
       "    <tr>\n",
       "      <th>2</th>\n",
       "      <td>Higher Rate</td>\n",
       "      <td>50,271 - 150,000</td>\n",
       "      <td>40%</td>\n",
       "      <td>32.50%</td>\n",
       "      <td>20 - 28%</td>\n",
       "    </tr>\n",
       "    <tr>\n",
       "      <th>3</th>\n",
       "      <td>Additional Rate</td>\n",
       "      <td>&gt; 150,000</td>\n",
       "      <td>45%</td>\n",
       "      <td>38.10%</td>\n",
       "      <td>-</td>\n",
       "    </tr>\n",
       "  </tbody>\n",
       "</table>\n",
       "</div>"
      ],
      "text/plain": [
       "                 Band        Income Tax Income Tax Rate Dividend Tax Rate   \\\n",
       "0  Personal Allowance            12,570              0%              2,000   \n",
       "1          Basic Rate   12,571 - 50,270             20%              7.50%   \n",
       "2         Higher Rate  50,271 - 150,000             40%             32.50%   \n",
       "3     Additional Rate         > 150,000             45%             38.10%   \n",
       "\n",
       "     Capital Gain Tax Rate  \n",
       "0  12,300 + cost of buying  \n",
       "1                      10%  \n",
       "2                 20 - 28%  \n",
       "3                        -  "
      ]
     },
     "execution_count": 21,
     "metadata": {},
     "output_type": "execute_result"
    }
   ],
   "source": [
    "df = pd.read_csv(\"D:/Data Science practice/Blog/Beginner's guide Series/Tax/Tax band table.csv\")\n",
    "\n",
    "df"
   ]
  },
  {
   "cell_type": "code",
   "execution_count": 22,
   "id": "d65f349e",
   "metadata": {},
   "outputs": [],
   "source": [
    "dfi.export(df, \"D:/Data Science practice/Blog/Beginner's guide Series/Tax/Tax Band Table1.png\")"
   ]
  },
  {
   "cell_type": "code",
   "execution_count": null,
   "id": "df7817d9",
   "metadata": {},
   "outputs": [],
   "source": []
  }
 ],
 "metadata": {
  "kernelspec": {
   "display_name": "Python 3",
   "language": "python",
   "name": "python3"
  },
  "language_info": {
   "codemirror_mode": {
    "name": "ipython",
    "version": 3
   },
   "file_extension": ".py",
   "mimetype": "text/x-python",
   "name": "python",
   "nbconvert_exporter": "python",
   "pygments_lexer": "ipython3",
   "version": "3.9.1"
  }
 },
 "nbformat": 4,
 "nbformat_minor": 5
}
